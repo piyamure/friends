{
 "cells": [
  {
   "cell_type": "code",
   "execution_count": 92,
   "metadata": {},
   "outputs": [],
   "source": [
    "import numpy as np\n",
    "import matplotlib.pyplot as plt\n",
    "from scipy.integrate import odeint"
   ]
  },
  {
   "cell_type": "markdown",
   "metadata": {},
   "source": [
    "### let's solve the problem using finite differnce method"
   ]
  },
  {
   "cell_type": "code",
   "execution_count": 93,
   "metadata": {},
   "outputs": [],
   "source": [
    "# define the time donain \n",
    "t = np.linspace(0,10,100000)\n",
    "dt = np.diff(t)[0]"
   ]
  },
  {
   "cell_type": "code",
   "execution_count": 94,
   "metadata": {},
   "outputs": [
    {
     "data": {
      "text/plain": [
       "array([0.00000e+00, 1.00001e-04, 2.00002e-04, ..., 9.99980e+00,\n",
       "       9.99990e+00, 1.00000e+01])"
      ]
     },
     "execution_count": 94,
     "metadata": {},
     "output_type": "execute_result"
    }
   ],
   "source": [
    "t"
   ]
  },
  {
   "cell_type": "code",
   "execution_count": 95,
   "metadata": {},
   "outputs": [],
   "source": [
    "# space domain \n",
    "x = np.linspace(0,1e-4,1000)\n",
    "dx = np.diff(x)[0]"
   ]
  },
  {
   "cell_type": "code",
   "execution_count": 96,
   "metadata": {},
   "outputs": [],
   "source": [
    "# define inital values\n",
    "u0 = 0.0342\n",
    "v0 = 0.050\n",
    "w0 = 7.7e-6\n",
    "z0 = 3.3e-8"
   ]
  },
  {
   "cell_type": "code",
   "execution_count": 97,
   "metadata": {},
   "outputs": [],
   "source": [
    "# define initial boundary conditions \n",
    "u = np.ones_like(x)*u0\n",
    "v = np.ones_like(x)*v0\n",
    "w = np.ones_like(x)*w0\n",
    "z = np.ones_like(x)*z0"
   ]
  },
  {
   "cell_type": "code",
   "execution_count": 98,
   "metadata": {},
   "outputs": [],
   "source": [
    "# at x = delta \n",
    "\n",
    "def neuman(a):\n",
    "    a[-1] = a[-2]\n",
    "    return a \n",
    "\n",
    "def not_neuman(a,D,f):\n",
    "    a[-1] = a[-2] + f/D * dx\n",
    "    return a\n"
   ]
  },
  {
   "cell_type": "code",
   "execution_count": 99,
   "metadata": {},
   "outputs": [],
   "source": [
    "# at x =0 we have dirichlet BC\n",
    "\n",
    "def dirichlet(a,a0):\n",
    "    a[0] = a0\n",
    "    return a"
   ]
  },
  {
   "cell_type": "code",
   "execution_count": 100,
   "metadata": {},
   "outputs": [],
   "source": [
    "# define constants \n",
    "\n",
    "D_u = 1.91e-9   # diffusive constant of CO2 \n",
    "D_v = 9.23e-10\n",
    "D_w = 1.19e-9\n",
    "D_z = 5.27e-9\n",
    "\n",
    "k1f = 5.93e3   # rate conatant, forward \n",
    "k2f = 1e8\n",
    "k1r = 1.34e-4\n",
    "k2r = 2.15e4\n"
   ]
  },
  {
   "cell_type": "code",
   "execution_count": 102,
   "metadata": {},
   "outputs": [],
   "source": [
    "# use the finite difference to update the values \n",
    "for t in range(len(t)):\n",
    "\n",
    "    u = u + (D_u*(np.gradient(np.gradient(u,dx),dx)) - u*z*k1f + v*k1r)*dt\n",
    "    v = v + (D_v*(np.gradient(np.gradient(v,dx),dx)) + u*z*k1f -v*k1r - v*z*k2f + w*k2r)*dt\n",
    "    w = w + (D_w*(np.gradient(np.gradient(w,dx),dx)) + v*z*k2f - w*k2r)*dt\n",
    "    z = z + (D_z*(np.gradient(np.gradient(z,dx),dx)) - u*z*(k1f + k2f) + v*(k1r + k2r) - v*z*k2f + w*k2r)*dt\n",
    "    dirichlet(u,u0)\n",
    "    dirichlet(v,v0)\n",
    "    dirichlet(w,w0)\n",
    "    dirichlet(z,z0)\n",
    "    neuman(v)\n",
    "    neuman(w)\n",
    "    not_neuman(u,D_u,-D_u/10)\n",
    "    not_neuman(z,D_w,D_w/20) \n"
   ]
  },
  {
   "cell_type": "code",
   "execution_count": null,
   "metadata": {},
   "outputs": [],
   "source": []
  }
 ],
 "metadata": {
  "kernelspec": {
   "display_name": "base",
   "language": "python",
   "name": "python3"
  },
  "language_info": {
   "codemirror_mode": {
    "name": "ipython",
    "version": 3
   },
   "file_extension": ".py",
   "mimetype": "text/x-python",
   "name": "python",
   "nbconvert_exporter": "python",
   "pygments_lexer": "ipython3",
   "version": "3.10.9"
  }
 },
 "nbformat": 4,
 "nbformat_minor": 2
}
