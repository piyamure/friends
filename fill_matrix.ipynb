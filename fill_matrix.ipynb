{
 "cells": [
  {
   "cell_type": "code",
   "execution_count": 1,
   "metadata": {},
   "outputs": [],
   "source": [
    "import numpy as np\n",
    "import pandas as pd\n",
    "\n",
    "# load data using pandas\n",
    "# [INFO: make sure you are using same column name for col 3 'd(hkl)' ]\n",
    "\n",
    "# function to fill the matrix \n",
    "def fill_matrix(input_file_name):\n",
    "    data_set = pd.read_excel(input_file_name)  \n",
    "    data = np.array(data_set['d(hkl)']) \n",
    "    n = len(data)\n",
    "    lower_matrix = np.tril(np.ones((n,n)))\n",
    "    lower_matrix[:,0] = data\n",
    "\n",
    "    for i in range(len(data)-1):\n",
    "        lower_matrix[:,i+1] = (lower_matrix[i,0]/lower_matrix[:,0])*lower_matrix[:,i+1]\n",
    "        \n",
    "    df = pd.DataFrame(lower_matrix)\n",
    "    output_file_name = input_file_name.split(\".\")[0]\n",
    "    df.to_excel(f\"{output_file_name}_output.xlsx\",index=False)\n",
    "    \n",
    "    print(f\"Fill matrix and save to : {output_file_name}_output.xlsx\")\n"
   ]
  },
  {
   "cell_type": "code",
   "execution_count": 2,
   "metadata": {},
   "outputs": [
    {
     "name": "stdout",
     "output_type": "stream",
     "text": [
      "Fill matrix and save to : test_output.xlsx\n"
     ]
    }
   ],
   "source": [
    "# run this fill the matrix : change the file name \n",
    "# here I am using  'test.xlsx' \n",
    "fill_matrix('test.xlsx')"
   ]
  },
  {
   "cell_type": "code",
   "execution_count": 3,
   "metadata": {},
   "outputs": [],
   "source": [
    "# fill_matrix('Fe_BiO3_R3c1.xlsx')"
   ]
  }
 ],
 "metadata": {
  "kernelspec": {
   "display_name": "base",
   "language": "python",
   "name": "python3"
  },
  "language_info": {
   "codemirror_mode": {
    "name": "ipython",
    "version": 3
   },
   "file_extension": ".py",
   "mimetype": "text/x-python",
   "name": "python",
   "nbconvert_exporter": "python",
   "pygments_lexer": "ipython3",
   "version": "3.9.13"
  }
 },
 "nbformat": 4,
 "nbformat_minor": 2
}
